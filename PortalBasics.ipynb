{
 "cells": [
  {
   "cell_type": "markdown",
   "id": "e0699d77",
   "metadata": {
    "cell_marker": "\"\"\""
   },
   "source": [
    "# Using WARA-Ops data and resources\n",
    "\n",
    "## Getting started\n",
    "\n",
    "[WARA-Ops][1] is a portal consisting of two parts, *data sets* and *compute services*. The [data catalogue][2] holds the data sets. In this tutorial you will be using the data set \"ERDClogs-parsed\", which is *public*. Data on the portal is either public or *private*, meaning that access is restricted to users with the correct credentials. Regardless of classification, you need a token to access data on the portal.\n",
    "\n",
    "A user's credentials are encoded in *token*, a long text string that looks like a random sequence of characters. In this tutorial you'll be guided through the steps of obtaining a token and loading data using the *data client* and your token.\n",
    "\n",
    "The first step is to go to the [WARA-Ops][1] site on log in. Once logged in, you'll find yourself in the `Dataset catalog` section. If you click the `OVERVIEW` icon you can get a detail view of any of the available datasets by using the pop-up menu just below the icons. If you choose `5Gdata` you can see that it has *restricted access*, but the `ERDClogs-parsed` is classified as *open access*.\n",
    "\n",
    "## Obtaining a token\n",
    "\n",
    "Moving on by clicking the `JUPYTERHUB` icon you're on your way to the compute services part of the portal, but first you must generate a token by clicking the `GENERATE TOKEN` button at the bottom of the page. Click the `CREATE` button and then click `COPY` (or copy the text manually). Paste the text somewhere as you'll be needing it later. You'll only have to generate a new token after it has expired. Click outside the dialog to continue.\n",
    "\n",
    "Next, click the `TO JUPYTERHUB` button to continue.\n",
    "\n",
    "You'll (maybe) be asked to log in to the hub, ond once logged in click the `Start My Server` button. You should choose the `CPU server` at this point, the click `Start`. After a while you'll be in the Jupyter environment. If Jupyter is new to you, take a minute to check out the [documentation][3].\n",
    "\n",
    "[1]: https://portal.wara-ops.org/home\n",
    "[2]: https://portal.wara-ops.org/tabselect/DatasetCatalog\n",
    "[3]: https://docs.jupyter.org/en/latest/"
   ]
  },
  {
   "cell_type": "markdown",
   "id": "710d839e",
   "metadata": {
    "cell_marker": "\"\"\"",
    "lines_to_next_cell": 0
   },
   "source": [
    "## Acceesing data using the data client and your token\n",
    "\n",
    "The first thing to do, is to import data portal client used to access the portal data:"
   ]
  },
  {
   "cell_type": "code",
   "execution_count": null,
   "id": "eeb3c58f",
   "metadata": {
    "lines_to_next_cell": 0
   },
   "outputs": [],
   "source": [
    "from dataportal import DataportalClient"
   ]
  },
  {
   "cell_type": "markdown",
   "id": "17f6cecb",
   "metadata": {
    "cell_marker": "\"\"\"",
    "lines_to_next_cell": 0
   },
   "source": [
    "Next, we'll interact with the data portal, using the `DataportalClient` API. To do so you need your personal token from the portal.\n",
    "\n",
    "Paste the token into the cell below, it should end up looking something like:\n",
    "\n",
    "    # paste your token from the portal inside the quotes\n",
    "    token = 'iOiJIUzI1NiIsInR5cCI6IkpXVCJ9.i4iLCJjbj13YXJhb3BzLXVzZXIsY249Z3JvdXBzLGNuPWF4iLCJjbj13YXJhb3BzLXVzZXIsY249Z3JvdXBzLGNuPWF'\n",
    "    dataset = 'ERDClogs-parsed'\n",
    "    client = DataportalClient(token)\n",
    "\n",
    "Use `help(DataportalClient)` in a python cell to see some documentation."
   ]
  },
  {
   "cell_type": "code",
   "execution_count": null,
   "id": "c7f9fd33",
   "metadata": {
    "lines_to_next_cell": 0
   },
   "outputs": [],
   "source": [
    "# paste your token from the portal inside the quotes\n",
    "token = ''\n",
    "dataset = 'ERDClogs-parsed'\n",
    "client = DataportalClient(token)"
   ]
  },
  {
   "cell_type": "markdown",
   "id": "e319cf56",
   "metadata": {
    "cell_marker": "\"\"\"",
    "lines_to_next_cell": 0
   },
   "source": [
    "After executing the above cell, it should print `Connection OK`, which means that the client is authenticated with the system.\n",
    "\n",
    "However, before we can do anything we need to associate the client with a particular dataset:"
   ]
  },
  {
   "cell_type": "code",
   "execution_count": null,
   "id": "f77c941d",
   "metadata": {
    "lines_to_next_cell": 0
   },
   "outputs": [],
   "source": [
    "client.fromDataset(dataset)"
   ]
  },
  {
   "cell_type": "markdown",
   "id": "680b0559",
   "metadata": {
    "cell_marker": "\"\"\"",
    "lines_to_next_cell": 0
   },
   "source": [
    "Using the instantiated and configured client, we can examine the files in the dataset:"
   ]
  },
  {
   "cell_type": "code",
   "execution_count": null,
   "id": "a9ba702e",
   "metadata": {},
   "outputs": [],
   "source": [
    "file_iterator = client.listFiles()"
   ]
  },
  {
   "cell_type": "markdown",
   "id": "e8880e7b",
   "metadata": {
    "cell_marker": "\"\"\"",
    "lines_to_next_cell": 0
   },
   "source": [
    "Despite its name, `listFiles()` won't return a list of files, but an iteratable object so to use it we have to iterate over it (or force it to a list using `file_list = list(file_iterator)`)"
   ]
  },
  {
   "cell_type": "code",
   "execution_count": null,
   "id": "90676cf6",
   "metadata": {
    "lines_to_next_cell": 0
   },
   "outputs": [],
   "source": [
    "for file_info in file_iterator:\n",
    "    print(file_info['FileID'])"
   ]
  },
  {
   "cell_type": "markdown",
   "id": "09f0b103",
   "metadata": {
    "cell_marker": "\"\"\"",
    "lines_to_next_cell": 0
   },
   "source": [
    "We could pick any of the files, but we'll choose the file with FileID 36666:"
   ]
  },
  {
   "cell_type": "code",
   "execution_count": null,
   "id": "a2449e8b",
   "metadata": {},
   "outputs": [],
   "source": [
    "df = client.getData(fileID=36666) # load file content into a dataframe"
   ]
  },
  {
   "cell_type": "markdown",
   "id": "a58cb64b",
   "metadata": {
    "cell_marker": "\"\"\"",
    "lines_to_next_cell": 0
   },
   "source": [
    "Using `df.info()` provides some hints to the dataframe contents…"
   ]
  },
  {
   "cell_type": "code",
   "execution_count": null,
   "id": "cb4e3cc4",
   "metadata": {},
   "outputs": [],
   "source": [
    "df.info()"
   ]
  },
  {
   "cell_type": "markdown",
   "id": "c1fd04e9",
   "metadata": {
    "cell_marker": "\"\"\"",
    "lines_to_next_cell": 0
   },
   "source": [
    "… as does `df.head()`."
   ]
  },
  {
   "cell_type": "code",
   "execution_count": null,
   "id": "52ff234b",
   "metadata": {
    "lines_to_next_cell": 0
   },
   "outputs": [],
   "source": [
    "df.head()"
   ]
  },
  {
   "cell_type": "markdown",
   "id": "a720338b",
   "metadata": {
    "cell_marker": "\"\"\"",
    "lines_to_next_cell": 2
   },
   "source": [
    "That's it! You should now be ready to continue with the next tutorial. Remember that your token will be valid for all your sessions until it expires."
   ]
  }
 ],
 "metadata": {
  "jupytext": {
   "cell_markers": "\"\"\"",
   "formats": "ipynb,py:percent"
  },
  "kernelspec": {
   "display_name": "Python 3 (ipykernel)",
   "language": "python",
   "name": "python3"
  }
 },
 "nbformat": 4,
 "nbformat_minor": 5
}
